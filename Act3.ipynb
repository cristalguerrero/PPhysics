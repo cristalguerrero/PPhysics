{
 "cells": [
  {
   "cell_type": "code",
   "execution_count": 66,
   "id": "c616156f-a11a-4b27-ac6b-2c022885c291",
   "metadata": {},
   "outputs": [
    {
     "name": "stdout",
     "output_type": "stream",
     "text": [
      "Estimated Pi: 3.14149208\n"
     ]
    }
   ],
   "source": [
    "import random\n",
    "num_samples = 100000000\n",
    "inside_circle = 0\n",
    "\n",
    "for i in range(num_samples):\n",
    "    x = random.uniform(-1,1)\n",
    "    y = random.uniform(-1,1)\n",
    "    if x**2 + y**2 <= 1: \n",
    "        inside_circle += 1\n",
    "    \n",
    "pi_estimate = 4 * inside_circle / num_samples\n",
    "print(f\"Estimated Pi: {pi_estimate}\")"
   ]
  },
  {
   "cell_type": "code",
   "execution_count": null,
   "id": "5162def9-182f-469b-bb5e-b39d69461181",
   "metadata": {},
   "outputs": [],
   "source": []
  },
  {
   "cell_type": "code",
   "execution_count": null,
   "id": "37b1b9c8-cfd2-4630-bfcb-72a4369d478a",
   "metadata": {},
   "outputs": [],
   "source": []
  }
 ],
 "metadata": {
  "kernelspec": {
   "display_name": "Python [conda env:base] *",
   "language": "python",
   "name": "conda-base-py"
  },
  "language_info": {
   "codemirror_mode": {
    "name": "ipython",
    "version": 3
   },
   "file_extension": ".py",
   "mimetype": "text/x-python",
   "name": "python",
   "nbconvert_exporter": "python",
   "pygments_lexer": "ipython3",
   "version": "3.12.7"
  }
 },
 "nbformat": 4,
 "nbformat_minor": 5
}
