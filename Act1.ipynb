{
 "cells": [
  {
   "cell_type": "code",
   "execution_count": 5,
   "id": "efd112e2-93ef-4162-8719-1b6a90837b95",
   "metadata": {},
   "outputs": [
    {
     "name": "stdout",
     "output_type": "stream",
     "text": [
      "Guess the prime number between 1 and 1000!\n"
     ]
    },
    {
     "ename": "KeyboardInterrupt",
     "evalue": "Interrupted by user",
     "output_type": "error",
     "traceback": [
      "\u001b[1;31m---------------------------------------------------------------------------\u001b[0m",
      "\u001b[1;31mKeyboardInterrupt\u001b[0m                         Traceback (most recent call last)",
      "Cell \u001b[1;32mIn[5], line 55\u001b[0m\n\u001b[0;32m     52\u001b[0m             \u001b[38;5;28mprint\u001b[39m(\u001b[38;5;124m\"\u001b[39m\u001b[38;5;124mPlease enter a valid number.\u001b[39m\u001b[38;5;124m\"\u001b[39m)\n\u001b[0;32m     54\u001b[0m \u001b[38;5;66;03m# Run the game if the script is executed directly.\u001b[39;00m\n\u001b[1;32m---> 55\u001b[0m guess_the_prime_game()\n",
      "Cell \u001b[1;32mIn[5], line 34\u001b[0m, in \u001b[0;36mguess_the_prime_game\u001b[1;34m()\u001b[0m\n\u001b[0;32m     31\u001b[0m \u001b[38;5;28;01mwhile\u001b[39;00m \u001b[38;5;28;01mTrue\u001b[39;00m:\n\u001b[0;32m     32\u001b[0m     \u001b[38;5;28;01mtry\u001b[39;00m:\n\u001b[0;32m     33\u001b[0m         \u001b[38;5;66;03m# Prompt the user to input a number.\u001b[39;00m\n\u001b[1;32m---> 34\u001b[0m         guess \u001b[38;5;241m=\u001b[39m \u001b[38;5;28mint\u001b[39m(\u001b[38;5;28minput\u001b[39m(\u001b[38;5;124m\"\u001b[39m\u001b[38;5;124mEnter your guess: \u001b[39m\u001b[38;5;124m\"\u001b[39m))\n\u001b[0;32m     35\u001b[0m         attempts \u001b[38;5;241m+\u001b[39m\u001b[38;5;241m=\u001b[39m \u001b[38;5;241m1\u001b[39m  \u001b[38;5;66;03m# Increment the attempt counter.\u001b[39;00m\n\u001b[0;32m     37\u001b[0m         \u001b[38;5;66;03m# Check if the guess is not in the list of prime numbers.\u001b[39;00m\n",
      "File \u001b[1;32m~\\anaconda3\\Lib\\site-packages\\ipykernel\\kernelbase.py:1262\u001b[0m, in \u001b[0;36mKernel.raw_input\u001b[1;34m(self, prompt)\u001b[0m\n\u001b[0;32m   1260\u001b[0m     msg \u001b[38;5;241m=\u001b[39m \u001b[38;5;124m\"\u001b[39m\u001b[38;5;124mraw_input was called, but this frontend does not support input requests.\u001b[39m\u001b[38;5;124m\"\u001b[39m\n\u001b[0;32m   1261\u001b[0m     \u001b[38;5;28;01mraise\u001b[39;00m StdinNotImplementedError(msg)\n\u001b[1;32m-> 1262\u001b[0m \u001b[38;5;28;01mreturn\u001b[39;00m \u001b[38;5;28mself\u001b[39m\u001b[38;5;241m.\u001b[39m_input_request(\n\u001b[0;32m   1263\u001b[0m     \u001b[38;5;28mstr\u001b[39m(prompt),\n\u001b[0;32m   1264\u001b[0m     \u001b[38;5;28mself\u001b[39m\u001b[38;5;241m.\u001b[39m_parent_ident[\u001b[38;5;124m\"\u001b[39m\u001b[38;5;124mshell\u001b[39m\u001b[38;5;124m\"\u001b[39m],\n\u001b[0;32m   1265\u001b[0m     \u001b[38;5;28mself\u001b[39m\u001b[38;5;241m.\u001b[39mget_parent(\u001b[38;5;124m\"\u001b[39m\u001b[38;5;124mshell\u001b[39m\u001b[38;5;124m\"\u001b[39m),\n\u001b[0;32m   1266\u001b[0m     password\u001b[38;5;241m=\u001b[39m\u001b[38;5;28;01mFalse\u001b[39;00m,\n\u001b[0;32m   1267\u001b[0m )\n",
      "File \u001b[1;32m~\\anaconda3\\Lib\\site-packages\\ipykernel\\kernelbase.py:1305\u001b[0m, in \u001b[0;36mKernel._input_request\u001b[1;34m(self, prompt, ident, parent, password)\u001b[0m\n\u001b[0;32m   1302\u001b[0m \u001b[38;5;28;01mexcept\u001b[39;00m \u001b[38;5;167;01mKeyboardInterrupt\u001b[39;00m:\n\u001b[0;32m   1303\u001b[0m     \u001b[38;5;66;03m# re-raise KeyboardInterrupt, to truncate traceback\u001b[39;00m\n\u001b[0;32m   1304\u001b[0m     msg \u001b[38;5;241m=\u001b[39m \u001b[38;5;124m\"\u001b[39m\u001b[38;5;124mInterrupted by user\u001b[39m\u001b[38;5;124m\"\u001b[39m\n\u001b[1;32m-> 1305\u001b[0m     \u001b[38;5;28;01mraise\u001b[39;00m \u001b[38;5;167;01mKeyboardInterrupt\u001b[39;00m(msg) \u001b[38;5;28;01mfrom\u001b[39;00m \u001b[38;5;28;01mNone\u001b[39;00m\n\u001b[0;32m   1306\u001b[0m \u001b[38;5;28;01mexcept\u001b[39;00m \u001b[38;5;167;01mException\u001b[39;00m:\n\u001b[0;32m   1307\u001b[0m     \u001b[38;5;28mself\u001b[39m\u001b[38;5;241m.\u001b[39mlog\u001b[38;5;241m.\u001b[39mwarning(\u001b[38;5;124m\"\u001b[39m\u001b[38;5;124mInvalid Message:\u001b[39m\u001b[38;5;124m\"\u001b[39m, exc_info\u001b[38;5;241m=\u001b[39m\u001b[38;5;28;01mTrue\u001b[39;00m)\n",
      "\u001b[1;31mKeyboardInterrupt\u001b[0m: Interrupted by user"
     ]
    }
   ],
   "source": [
    "import random  # Import the random module to select numbers randomly.\n",
    "\n",
    "# Define a function to check if a number is prime.\n",
    "def is_prime(n):\n",
    "    if n < 2:  # Numbers less than 2 are not prime.\n",
    "        return False\n",
    "    # Check divisors from 2 to the square root of n (optimization).\n",
    "    for i in range(2, int(n ** 0.5) + 1):\n",
    "        if n % i == 0:  # If n is divisible by i, it is not a prime number.\n",
    "            return False\n",
    "    return True  # If no divisors are found, n is prime.\n",
    "\n",
    "# Generate a list of prime numbers within a given range.\n",
    "def generate_primes(lower_limit, upper_limit):\n",
    "    # Use list comprehension to include numbers that pass the is_prime check.\n",
    "    return [num for num in range(lower_limit, upper_limit + 1) if is_prime(num)]\n",
    "\n",
    "# Define the main game function.\n",
    "def guess_the_prime_game():\n",
    "    print(\"Guess the prime number between 1 and 1000!\")  # Initial message.\n",
    "    \n",
    "    # Generate all prime numbers between 1 and 1000.\n",
    "    primes = generate_primes(1, 1000)\n",
    "    \n",
    "    # Randomly select a prime number from the list.\n",
    "    secret_number = random.choice(primes)\n",
    "    \n",
    "    attempts = 0  # Initialize the attempt counter at 0.\n",
    "\n",
    "    # Start a loop that continues until the user guesses the number.\n",
    "    while True:\n",
    "        try:\n",
    "            # Prompt the user to input a number.\n",
    "            guess = int(input(\"Enter your guess: \"))\n",
    "            attempts += 1  # Increment the attempt counter.\n",
    "            \n",
    "            # Check if the guess is not in the list of prime numbers.\n",
    "            if guess not in primes:\n",
    "                print(\"That is not a prime number. Try again.\")\n",
    "            # If the guess is less than the secret number, give a hint.\n",
    "            elif guess < secret_number:\n",
    "                print(\"The secret number is higher. Keep trying!\")\n",
    "            # If the guess is greater than the secret number, give a hint.\n",
    "            elif guess > secret_number:\n",
    "                print(\"The secret number is lower. Keep trying!\")\n",
    "            # If the user guesses correctly, display a success message and exit the loop.\n",
    "            else:\n",
    "                print(f\"Congratulations! You guessed the prime number {secret_number} in {attempts} attempts.\")\n",
    "                break  # Exit the loop when the guess is correct.\n",
    "        except ValueError:\n",
    "            # Handle errors if the user enters invalid input.\n",
    "            print(\"Please enter a valid number.\")\n",
    "\n",
    "# Run the game if the script is executed directly.\n",
    "guess_the_prime_game()\n"
   ]
  },
  {
   "cell_type": "code",
   "execution_count": null,
   "id": "f657c5ba-16b8-4d6f-b0ab-58f4e6607dea",
   "metadata": {},
   "outputs": [],
   "source": []
  }
 ],
 "metadata": {
  "kernelspec": {
   "display_name": "Python [conda env:base] *",
   "language": "python",
   "name": "conda-base-py"
  },
  "language_info": {
   "codemirror_mode": {
    "name": "ipython",
    "version": 3
   },
   "file_extension": ".py",
   "mimetype": "text/x-python",
   "name": "python",
   "nbconvert_exporter": "python",
   "pygments_lexer": "ipython3",
   "version": "3.12.7"
  }
 },
 "nbformat": 4,
 "nbformat_minor": 5
}
